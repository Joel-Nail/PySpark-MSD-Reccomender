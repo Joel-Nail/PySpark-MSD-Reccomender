{
 "cells": [
  {
   "cell_type": "markdown",
   "metadata": {},
   "source": [
    "# <p style=\"text-align: center;\">MIS 285N: Big Data and Distributed Programming</p>\n",
    "# <p style=\"text-align: center;\">Project - 1 : Apache Spark</p>\n",
    "## <p style=\"text-align: center;\">Instructor: Dr. Ramesh Yerraballi</p>\n",
    "## <p style=\"text-align: center;\">Due: Tuesday, September 14th submitted via Canvas by 11:59 pm</p>\n",
    "\n",
    "Your work should be written in a **Jupyter notebook**.   \n",
    "\n",
    "Also, please make sure your code runs in your notebook before submitting.\n",
    "\n",
    "**Note:**\n",
    "\n",
    "This project is based on Map-Reduce Framework. In these you will get to work with Spark and will get to know how \n",
    "does spark work, what functionalities does spark provide, what does map-reduce framework do and why is it useful. \n",
    "\n",
    "In this project you will be implementing a basic song recommender system. You will be given a dataset where there are multiple csv files. These csv files have data corresponding to song play count and song information.\n",
    "\n",
    "The data you will use is provided in a zip file along with this notebook. The __msd.zip__ archive contains:\n",
    "1. **'kaggle_visible_evaluation_triplets.txt'**. We will be using the visible part of the testing data to understand the working on Apache Spark.  The user's listening history is provided as: (user, song, play count).  \n",
    "2. In **'kaggle_songs.txt'** file, each song is marked using an index for easier representation of songs.  \n",
    "3. And **'kaggle_users.txt'** file is the canonical list of user identifiers.\n",
    "4. Take **'MSDChallengeGettingstarted.pdf'** as your reference.\n",
    "\n",
    "\n",
    "\n",
    "### **What to turn in?**  \n",
    "\n",
    "A zip folder which will have:\n",
    "1. Jupyter Notebook\n",
    "2. A brief report in PDF format on what features you used for recommendation. And a brief explanation of flow of your code. For example,  what RDD does what or, why it was created.\n",
    "3. datasets folder with the csv files you are using in your notebook.\n",
    "4. Notebook should use relative path to the csv files in datasets folder.\n",
    "5. Name of the zip folder - `<your_name>_<your_partner_name>.zip`"
   ]
  },
  {
   "cell_type": "markdown",
   "metadata": {},
   "source": [
    "This project consists of 4 questions:  \n",
    "\n",
    "1. Create an RDD with _kaggle_visible_evaluation_triplets.txt_ and replace the song name with the song index from _kaggle_songs.txt_. Identify the number of songs that do not have any rating. \n",
    "2. Generate song ratings based on the song play count as a normalized score between 0 and 1. \n",
    "3. Identify the popular song based on this rating and recommend songs to user, given user id based on the algorithm used in Movie recommender system from class. \n",
    "4. Using Cosine similarity function, identify pair-wise similarity between each pair of users and generate the top 5 most similar users without an overlap in users. \n",
    "\n",
    "The above list is the high-level idea about the questions. "
   ]
  },
  {
   "cell_type": "code",
   "execution_count": 1,
   "metadata": {},
   "outputs": [
    {
     "name": "stdout",
     "output_type": "stream",
     "text": [
      "22/09/13 18:36:51 WARN Utils: Your hostname, Joels-MacBook-Air.local resolves to a loopback address: 127.0.0.1; using 10.147.50.168 instead (on interface en0)\n",
      "22/09/13 18:36:51 WARN Utils: Set SPARK_LOCAL_IP if you need to bind to another address\n"
     ]
    },
    {
     "name": "stderr",
     "output_type": "stream",
     "text": [
      "Setting default log level to \"WARN\".\n",
      "To adjust logging level use sc.setLogLevel(newLevel). For SparkR, use setLogLevel(newLevel).\n"
     ]
    },
    {
     "name": "stdout",
     "output_type": "stream",
     "text": [
      "22/09/13 18:36:52 WARN NativeCodeLoader: Unable to load native-hadoop library for your platform... using builtin-java classes where applicable\n",
      "22/09/13 18:36:53 WARN Utils: Service 'SparkUI' could not bind on port 4040. Attempting port 4041.\n",
      "22/09/13 18:36:53 WARN Utils: Service 'SparkUI' could not bind on port 4041. Attempting port 4042.\n",
      "22/09/13 18:36:53 WARN Utils: Service 'SparkUI' could not bind on port 4042. Attempting port 4043.\n"
     ]
    }
   ],
   "source": [
    "### Starter code ####\n",
    "import findspark\n",
    "findspark.init()\n",
    "from pyspark import SparkConf, SparkContext\n",
    "conf = SparkConf().setMaster(\"local[*]\").setAppName(\"Songs\")\n",
    "sc = SparkContext.getOrCreate(conf = conf)\n",
    "#### These lines are to tell jupyter where to find Apache Spark ####"
   ]
  },
  {
   "cell_type": "code",
   "execution_count": 2,
   "metadata": {},
   "outputs": [],
   "source": [
    "#sc.stop()"
   ]
  },
  {
   "cell_type": "code",
   "execution_count": 3,
   "metadata": {},
   "outputs": [
    {
     "name": "stderr",
     "output_type": "stream",
     "text": [
      "                                                                                \r"
     ]
    }
   ],
   "source": [
    "## Read triplet file into RDD\n",
    "triplet_rdd = sc.textFile(r\"msd/kaggle_visible_evaluation_triplets.txt\") \\\n",
    "    .map(lambda line: line.split(\"\\t\")) \n",
    "\n",
    "# triplets are in following format: [user, song, # of plays]\n",
    "test = triplet_rdd.collect()"
   ]
  },
  {
   "cell_type": "markdown",
   "metadata": {},
   "source": [
    "## Step 1: \n",
    "Replace song name with song index and identify the number of songs without user history"
   ]
  },
  {
   "cell_type": "code",
   "execution_count": 4,
   "metadata": {},
   "outputs": [
    {
     "name": "stderr",
     "output_type": "stream",
     "text": [
      "                                                                                \r"
     ]
    }
   ],
   "source": [
    "f = open('msd/kaggle_songs.txt', 'r') \n",
    "\n",
    "songs_rdd = sc.textFile(r\"msd/kaggle_songs.txt\").map(lambda line: line.split(\" \"))\n",
    "\n",
    "# code grabbed from the provided MSD Challenge PDF\n",
    "# creates a dictionary that maps song IDs to their corresponding index value\n",
    "song_to_index = dict(map(lambda line: \n",
    "                                line.strip().split(' '),\n",
    "                                f.readlines())) \n",
    "f.close()\n",
    "\n",
    "# leaves x[0] and x[2] the same but converts song IDs into corresponding index values\n",
    "name_replaced_rdd = triplet_rdd.map(lambda x: [x[0], song_to_index[x[1]], x[2]]).sortBy(lambda x: x[1])"
   ]
  },
  {
   "cell_type": "code",
   "execution_count": 5,
   "metadata": {},
   "outputs": [
    {
     "name": "stderr",
     "output_type": "stream",
     "text": [
      "                                                                                \r"
     ]
    },
    {
     "data": {
      "text/plain": [
       "[5, 6, 10, 13, 16, 20, 22, 29, 30, 32]"
      ]
     },
     "execution_count": 5,
     "metadata": {},
     "output_type": "execute_result"
    }
   ],
   "source": [
    "# this RDD contains only songs that are included in the triples file i.e., songs that have user listening history\n",
    "distinct_songs_rdd = name_replaced_rdd.map(lambda x: int(x[1])).distinct().sortBy(lambda x: x)\n",
    "distinct_songs_rdd.take(10) # should output [5, 6, 10, 13, 16,...]"
   ]
  },
  {
   "cell_type": "code",
   "execution_count": 6,
   "metadata": {},
   "outputs": [
    {
     "name": "stderr",
     "output_type": "stream",
     "text": [
      "                                                                                \r"
     ]
    }
   ],
   "source": [
    "# this RDD contains only song indexes i.e., no song IDs\n",
    "songs_indexes_only_rdd = songs_rdd.map(lambda x: int(x[1]))\n",
    "# this RDD takes the list of all songs (created above) and removes all songs with listening history (distinct_songs_rdd)\n",
    "# the resulting RDD is all songs without listening history \n",
    "songs_without_listening_history_rdd = songs_indexes_only_rdd.subtract(distinct_songs_rdd).sortBy(lambda x: x)"
   ]
  },
  {
   "cell_type": "code",
   "execution_count": 7,
   "metadata": {},
   "outputs": [
    {
     "name": "stderr",
     "output_type": "stream",
     "text": [
      "                                                                                \r"
     ]
    },
    {
     "name": "stdout",
     "output_type": "stream",
     "text": [
      "[1, 2, 3, 4, 7, 8, 9, 11, 12, 14]\n",
      "Number of songs without listening history: 223,007\n"
     ]
    }
   ],
   "source": [
    "print(songs_without_listening_history_rdd.take(10))\n",
    "num_of_songs_without_listen_history = songs_without_listening_history_rdd.count()\n",
    "print(\"Number of songs without listening history: \" + format(num_of_songs_without_listen_history, ','))"
   ]
  },
  {
   "cell_type": "markdown",
   "metadata": {},
   "source": [
    "## Step 2:\n",
    "Generate song ratings based on the play_count. For example, if (song_1, 5; song_2, 10; song_3, 5) i.e., song_1 is played 5 times, song_2 is played 10 times and song_3 is played 5 times, the normalized rating score should be 0.25, 0.5 and 0.25 respectively. \n",
    "Similarly, generate the rating for all the songs. You may notice that based on all songs, the rating is almost always very low. So, think of the best way to convert song count to ratings. (Hint: Try generating ratings based on each user's song play history)"
   ]
  },
  {
   "cell_type": "markdown",
   "metadata": {},
   "source": [
    "### Putting songs and # of listens into lists and then grouping by user ID"
   ]
  },
  {
   "cell_type": "code",
   "execution_count": 8,
   "metadata": {},
   "outputs": [
    {
     "name": "stderr",
     "output_type": "stream",
     "text": [
      "[Stage 37:>                                                         (0 + 1) / 1]\r"
     ]
    },
    {
     "name": "stdout",
     "output_type": "stream",
     "text": [
      "[('62543798a0eac1d057af421b188dc72d6fd48ff2', [['10', '1'], ['10827', '1'], ['148533', '1'], ['160828', '1'], ['190514', '1'], ['199981', '1'], ['253699', '1'], ['272391', '2'], ['293616', '1'], ['296902', '1'], ['301690', '1'], ['338648', '5'], ['342111', '1'], ['353019', '1'], ['369289', '2'], ['42181', '3'], ['71024', '1'], ['93102', '1']]), ('05b340468f70fee0b924b9163a26c75b39ec640b', [['10', '1'], ['11011', '1'], ['150661', '2'], ['15472', '1'], ['183190', '70'], ['211749', '1'], ['221730', '2'], ['268474', '2'], ['281851', '1'], ['284163', '1'], ['318024', '1'], ['322080', '1'], ['343663', '1'], ['353679', '2'], ['354992', '1'], ['363932', '1'], ['369289', '6'], ['37952', '1'], ['40311', '7'], ['74238', '1']])]\n"
     ]
    },
    {
     "name": "stderr",
     "output_type": "stream",
     "text": [
      "                                                                                \r"
     ]
    }
   ],
   "source": [
    "#print(name_replaced_rdd.take(5))\n",
    "\n",
    "# this RDD groups each song and # of listens into a list\n",
    "combine_song_plays_rdd = name_replaced_rdd.map(lambda x: [x[0], [x[1], x[2]]])\n",
    "# this RDD groups all rows by user ID resulting in each row being a unique user\n",
    "# each unique user includes a list of lists where each sublist is a song and the number of times the user listened to it\n",
    "grouped_by_user_rdd = combine_song_plays_rdd.groupByKey().mapValues(list)\n",
    "print(grouped_by_user_rdd.take(2))"
   ]
  },
  {
   "cell_type": "markdown",
   "metadata": {},
   "source": [
    "### Calculating relative song rating for each user"
   ]
  },
  {
   "cell_type": "code",
   "execution_count": 9,
   "metadata": {},
   "outputs": [],
   "source": [
    "# this function calculates the user popularity for each row within the grouped_by_user RDD\n",
    "# it first goes through and calculates the total # of listens for a given user\n",
    "# it then goes through each song and calculates relative rating as (# of listens) / (total # of listens)\n",
    "def calc_user_pop(row):\n",
    "    sum = 0\n",
    "    for i in row:\n",
    "        sum += int(i[1])\n",
    "\n",
    "    new_song_list = []\n",
    "\n",
    "    for i in range(len(row)):\n",
    "        song_pop = float(format(int(row[i][1])/sum, \".3\"))\n",
    "        new_song_list.append([int(row[i][0]), song_pop])\n",
    "\n",
    "    return(new_song_list)\n",
    "\n",
    "\n",
    "user_pop_rdd = grouped_by_user_rdd.map(lambda x: [x[0], calc_user_pop(x[1])])"
   ]
  },
  {
   "cell_type": "markdown",
   "metadata": {},
   "source": [
    "## Step 3: \n",
    "For a given user_id (choose one by yourselves), rating, recommend 5 other songs from the list. One way to do this is based on another user who liked the same song liked by this user with rating more than the given rating and recommend the 5 songs based on the matched user's rating. "
   ]
  },
  {
   "cell_type": "code",
   "execution_count": 10,
   "metadata": {},
   "outputs": [],
   "source": [
    "# I chose the most popular song for the given user and used their relative rating for that song as the threshold\n",
    "given_user = '62543798a0eac1d057af421b188dc72d6fd48ff2'\n",
    "given_song = 338648\n",
    "given_rating = 0.192"
   ]
  },
  {
   "cell_type": "markdown",
   "metadata": {},
   "source": [
    "### Finding all other users who liked the given song (not including the given user)"
   ]
  },
  {
   "cell_type": "code",
   "execution_count": 11,
   "metadata": {},
   "outputs": [
    {
     "name": "stderr",
     "output_type": "stream",
     "text": [
      "[Stage 40:>                                                         (0 + 3) / 3]\r"
     ]
    },
    {
     "name": "stdout",
     "output_type": "stream",
     "text": [
      "19\n"
     ]
    },
    {
     "name": "stderr",
     "output_type": "stream",
     "text": [
      "                                                                                \r"
     ]
    }
   ],
   "source": [
    "# this function returns all users who listened to the given song and rated it higher than the given rating\n",
    "def find_users_who_liked_song(row):\n",
    "    contains_song_bool = False\n",
    "    for i in row[1]:\n",
    "        # i = [song, pop]\n",
    "        if (str(i[0]) == str(given_song)) & (float(i[1])>float(given_rating)):\n",
    "            #print(i[1]) # highest pop for 338648 = 0.562\n",
    "            contains_song_bool = True\n",
    "    \n",
    "    return contains_song_bool\n",
    "\n",
    "# this function filters out the given user from the list of users who liked the given song    \n",
    "def not_given_user(row):\n",
    "    if row[0] == given_user:\n",
    "        return False\n",
    "    else:\n",
    "        return True\n",
    "\n",
    "\n",
    "users_who_liked_song_rdd = user_pop_rdd.filter(find_users_who_liked_song)\n",
    "uwls_minus_given_user = users_who_liked_song_rdd.filter(not_given_user)\n",
    "\n",
    "print(uwls_minus_given_user.count()) # should be 19 for user = '62543798a0eac1d057af421b188dc72d6fd48ff2', song = 338648, rating = 0.192"
   ]
  },
  {
   "cell_type": "markdown",
   "metadata": {},
   "source": [
    "### Finding the rows relating to the given song for each of the users found above"
   ]
  },
  {
   "cell_type": "code",
   "execution_count": 12,
   "metadata": {},
   "outputs": [
    {
     "name": "stderr",
     "output_type": "stream",
     "text": [
      "[Stage 49:>                                                         (0 + 3) / 3]\r"
     ]
    },
    {
     "name": "stdout",
     "output_type": "stream",
     "text": [
      "[[[338648, 0.562], 'c44d6b25efcafe674a60e9073070bfc5ccf81a7b'], [[338648, 0.556], '172ab36adefde6f024c78062f5cd56a92d529fab'], [[338648, 0.542], '4bd779f7e52e2fbdbb67dc00644cb417ea0cdd36'], [[338648, 0.455], '291f5691468c10396b3b1e05e20958e0d9798a6f'], [[338648, 0.421], 'f0d5494bae08c6130c3363a218b68bba6baaeda8']]\n"
     ]
    },
    {
     "name": "stderr",
     "output_type": "stream",
     "text": [
      "                                                                                \r"
     ]
    }
   ],
   "source": [
    "# this function reformats the RDD into the format [ [song, rating], user ] so that each song/rating pair is in its own list\n",
    "def add_user_to_song_list(row):\n",
    "    new_song_list = []\n",
    "    for i in row[1]:\n",
    "        #print(i)\n",
    "        new_song_list.append([i, row[0]])\n",
    "\n",
    "    return(new_song_list)\n",
    "\n",
    "# this function finds only those rows that relate to the given song\n",
    "def find_rows_with_given_song(row):\n",
    "    if int(row[0][0]) == given_song:\n",
    "        return True\n",
    "    else:\n",
    "        return False\n",
    "\n",
    "# reformats RDD such that we have a list of lists where each sublist contains the song/rating pair and the associated user\n",
    "add_user_to_song_list_rdd = uwls_minus_given_user.flatMap(add_user_to_song_list)\n",
    "# filters the previously created RDD such that only rows relating to the given song are present\n",
    "given_song_with_user_rdd = add_user_to_song_list_rdd.filter(find_rows_with_given_song)\n",
    "# sort the previously created RDD by rating - this allows us to find the user who rated the given song the highest\n",
    "sorted_by_rating = given_song_with_user_rdd.sortBy(lambda x: x[0][1], ascending=False)\n",
    "print(sorted_by_rating.take(5))"
   ]
  },
  {
   "cell_type": "markdown",
   "metadata": {},
   "source": [
    "### Finding other songs listened to by the user who rated the given song the highest"
   ]
  },
  {
   "cell_type": "code",
   "execution_count": 13,
   "metadata": {},
   "outputs": [
    {
     "name": "stderr",
     "output_type": "stream",
     "text": [
      "                                                                                \r"
     ]
    }
   ],
   "source": [
    "# this just grabs the username for the user who rated the given song the highest\n",
    "user_with_highest_rating = sorted_by_rating.take(1)[0][1]\n",
    "# this filters to retrieve only the songs listened to by the user who rated the given song the highest\n",
    "highest_rated_user_rdd = uwls_minus_given_user.filter(lambda x: x[0]==user_with_highest_rating)\n",
    "# this removes the user ID and sorts by the rating the user gave to each song they listened to\n",
    "hru_songs_sorted_by_pop = highest_rated_user_rdd.flatMap(lambda x: x[1]).sortBy(lambda x: x[1], ascending=False)"
   ]
  },
  {
   "cell_type": "code",
   "execution_count": 14,
   "metadata": {},
   "outputs": [
    {
     "name": "stderr",
     "output_type": "stream",
     "text": [
      "[Stage 63:>                                                         (0 + 3) / 3]\r"
     ]
    },
    {
     "name": "stdout",
     "output_type": "stream",
     "text": [
      "[341056, 210533, 340684, 158979, 170370]\n"
     ]
    },
    {
     "name": "stderr",
     "output_type": "stream",
     "text": [
      "                                                                                \r"
     ]
    }
   ],
   "source": [
    "# this filters out the given song from the list of songs listened to by the user who rated the given song the highest\n",
    "hru_songs_minus_given_rdd = hru_songs_sorted_by_pop.filter(lambda x: int(x[0])!=given_song)\n",
    "# this gives us the top five song/rating pairs for the user who rated the given song the highest\n",
    "hru_top_five_minus_given = hru_songs_minus_given_rdd.take(5)\n",
    "\n",
    "# the following code creates a list of just the song indexes for the top five songs\n",
    "five_songs_to_recommend = []\n",
    "for i in hru_top_five_minus_given:\n",
    "    five_songs_to_recommend.append(i[0])\n",
    "\n",
    "print(five_songs_to_recommend)\n",
    "\n",
    "# these recommendation don't take into account the fact that the given user may have already listened to them\n",
    "# unlike movies, however, most people listen to songs more than once, so I think it is reasonable to include songs that have already been listened to"
   ]
  },
  {
   "cell_type": "markdown",
   "metadata": {},
   "source": [
    "## Step 4: \n",
    "1. Compute cosine similarity between all pairs of users. \n",
    "2. Sort the similarity score and print the top-5 similar users. \n",
    "3. If the top-5 user set has an user appearing more than once, ignore that pair and take the next best pair from the sorted list. \n",
    "4. For a given user_id, identify the top-5 similar users and hence song recommendations from other user's list. "
   ]
  },
  {
   "cell_type": "markdown",
   "metadata": {},
   "source": [
    "### Importing Cosine Similarity Function from RecommenderSystems Notebook"
   ]
  },
  {
   "cell_type": "code",
   "execution_count": 15,
   "metadata": {},
   "outputs": [
    {
     "name": "stderr",
     "output_type": "stream",
     "text": [
      "                                                                                \r"
     ]
    },
    {
     "name": "stdout",
     "output_type": "stream",
     "text": [
      "[['62543798a0eac1d057af421b188dc72d6fd48ff2', [[10, 0.0385], [10827, 0.0385], [148533, 0.0385], [160828, 0.0385], [190514, 0.0385], [199981, 0.0385], [253699, 0.0385], [272391, 0.0769], [293616, 0.0385], [296902, 0.0385], [301690, 0.0385], [338648, 0.192], [342111, 0.0385], [353019, 0.0385], [369289, 0.0769], [42181, 0.115], [71024, 0.0385], [93102, 0.0385]]], ['05b340468f70fee0b924b9163a26c75b39ec640b', [[10, 0.00962], [11011, 0.00962], [150661, 0.0192], [15472, 0.00962], [183190, 0.673], [211749, 0.00962], [221730, 0.0192], [268474, 0.0192], [281851, 0.00962], [284163, 0.00962], [318024, 0.00962], [322080, 0.00962], [343663, 0.00962], [353679, 0.0192], [354992, 0.00962], [363932, 0.00962], [369289, 0.0577], [37952, 0.00962], [40311, 0.0673], [74238, 0.00962]]]]\n"
     ]
    }
   ],
   "source": [
    "import math\n",
    "\n",
    "# function to calculate the dot product of two vectors\n",
    "def dot(v,w):\n",
    "    \"\"\" v_1*w_1 + ... v_n*w_n\"\"\"\n",
    "    return sum(v_i *w_i\n",
    "              for v_i,w_i in zip(v,w))\n",
    "\n",
    "# function to calculate cosine similarity between two vectors\n",
    "def cosine_similarity(v, w):\n",
    "    return dot(v, w) / math.sqrt(dot(v, v) * dot(w, w))\n",
    "\n",
    "# converting the user_pop and distinct_songs RDDs into lists for easier manipulation\n",
    "user_pop_list = user_pop_rdd.collect()\n",
    "distinct_songs_list = distinct_songs_rdd.collect()\n",
    "\n",
    "print(user_pop_list[0:2]) # TO DO: create a dictionary for each user that maps their song to their rating"
   ]
  },
  {
   "cell_type": "markdown",
   "metadata": {},
   "source": [
    "### Creating an RDD with each user and the songs in their listening history"
   ]
  },
  {
   "cell_type": "code",
   "execution_count": 16,
   "metadata": {},
   "outputs": [
    {
     "name": "stderr",
     "output_type": "stream",
     "text": [
      "                                                                                \r"
     ]
    }
   ],
   "source": [
    "# this function remaps the user_pop_rdd to be in the following format: [[user, [song1, song2, song3]] [user2, [song1, song2]]]\n",
    "def songs_only(row):\n",
    "    song_list = []\n",
    "    for rating in row[1]:\n",
    "        song_list.append(rating[0]) \n",
    "\n",
    "    return song_list\n",
    "\n",
    "# remapping the user_pop_rdd and creating a list of lists where each sublist contains the user followed by a list of all songs they listened to\n",
    "user_songs_only = user_pop_rdd.map(lambda x: [x[0], songs_only(x)])\n",
    "user_songs_only_list = user_songs_only.collect()"
   ]
  },
  {
   "cell_type": "markdown",
   "metadata": {},
   "source": [
    "### Step 4 Part 1: Calculating Cosine Similarity for Users"
   ]
  },
  {
   "cell_type": "code",
   "execution_count": 30,
   "metadata": {},
   "outputs": [
    {
     "name": "stdout",
     "output_type": "stream",
     "text": [
      "sucessfully created user song interest matrix\n",
      "successfully created user_similarities matrix\n"
     ]
    }
   ],
   "source": [
    "import random\n",
    "\n",
    "# taking a random sample of k users because my computer is unable to create the required matrices for the entire dataset\n",
    "user_sample = random.sample(user_songs_only_list, 100)\n",
    "\n",
    "# function to create an interest matrix for each song for each user (within the user_sample)\n",
    "# this function loops through every user in the user_sample and compares against every song in the distinct songs list\n",
    "# a 1 value is assigned if the song is in the user's listening history and a 0 is assigned otherwise\n",
    "# DESIRED UPDATE: rather than using binary system (0 or 1), use the user's relative popularity for the song in question\n",
    "def create_song_interest_matrix(user_song_interests):\n",
    "    user_song_interest_matrix = []\n",
    "\n",
    "    for user_song in user_song_interests:\n",
    "        ind_user_matrix = [1 if song in user_song[1] else 0\n",
    "                            for song in distinct_songs_list]\n",
    "\n",
    "        user_song_interest_matrix.append(ind_user_matrix)\n",
    "\n",
    "    return user_song_interest_matrix\n",
    "        \n",
    "# creating the song interest matrix for the user_sample\n",
    "user_song_interest_matrix = create_song_interest_matrix(user_sample)\n",
    "print('sucessfully created user song interest matrix') # provided because the code can take a while to run\n",
    "\n",
    "# create a matrix of user cosine similarities for each user in the user_song_interest_matrix\n",
    "user_similarities = [[cosine_similarity(interest_vector_i, interest_vector_j)\n",
    "                      for interest_vector_j in user_song_interest_matrix]\n",
    "                     for interest_vector_i in user_song_interest_matrix]\n",
    "\n",
    "print('successfully created user_similarities matrix') # provided because the code can take a while to run\n",
    "\n",
    "### TO DO ###\n",
    "## INCORPORATE RELATIVE POPULARITY CALCULATIONS \n",
    "## add the relative popularity back into the user list and then rather than using a binary value, use the relative popularity \n",
    "## if a song is not in the user's history, it will be 0. if the song is in the user's history, it will be = to the song's relative popularity"
   ]
  },
  {
   "cell_type": "markdown",
   "metadata": {},
   "source": [
    "### Step 4 Part 2 & 3: Sorting Similarity Score and Finding Most Similar Users (Not Including Repeated Users)"
   ]
  },
  {
   "cell_type": "code",
   "execution_count": 31,
   "metadata": {},
   "outputs": [
    {
     "name": "stdout",
     "output_type": "stream",
     "text": [
      "Top five most similar users and associated similarity score: [[3, 77, 0.2886751345948129], [33, 97, 0.21650635094610968], [8, 69, 0.21081851067789195], [4, 10, 0.18257418583505536], [61, 99, 0.18257418583505536]]\n"
     ]
    }
   ],
   "source": [
    "similar_users_list = []\n",
    "\n",
    "# the below for loop creates a list of every user similarity that is not = 0 or 1 (b/c if =1 then its comparing user to self)\n",
    "# i and j represent the index value for the user and the user we are comparing to respectively - this allows us to find which users are most similar\n",
    "i = 0\n",
    "for user in user_similarities:\n",
    "    # user index value = i\n",
    "    j = 0\n",
    "    for similarity in user:\n",
    "        if (similarity != 0) & (similarity != 1):\n",
    "            similar_users_list.append([i, j, similarity])\n",
    "        j += 1\n",
    "\n",
    "    i += 1\n",
    "\n",
    "# sort the similar users list by the similarity value\n",
    "similar_users_list.sort(key = lambda x: x[2], reverse=True)\n",
    "\n",
    "# code to get rid of repeated pairs which is not necessary so long as we use the below code for getting rid of any duplicated user\n",
    "'''\n",
    "for pair in similar_users_list:\n",
    "    users_pair = [pair[0], pair[1]]\n",
    "    users_pair.reverse()\n",
    "    users_pair.append(pair[2])\n",
    "    #print(users_pair)\n",
    "    if users_pair in similar_users_list:\n",
    "        similar_users_list.remove(users_pair)\n",
    "'''\n",
    "\n",
    "# the below for loop gets rid of any user who appears more than once\n",
    "i = 1\n",
    "for pair in similar_users_list:\n",
    "    user0, user1 = pair[0], pair[1]\n",
    "    for list_pair in similar_users_list[i:]:\n",
    "        if (user0 in list_pair) or (user1 in list_pair):\n",
    "            similar_users_list.remove(list_pair)\n",
    "    i += 1\n",
    "\n",
    "\n",
    "print(\"Top five most similar users and associated similarity score:\", similar_users_list[0:5])\n"
   ]
  },
  {
   "cell_type": "markdown",
   "metadata": {},
   "source": [
    "### Step 4 Part 4: Printing Most Similar Users for a Given User"
   ]
  },
  {
   "cell_type": "code",
   "execution_count": 34,
   "metadata": {},
   "outputs": [
    {
     "name": "stdout",
     "output_type": "stream",
     "text": [
      "[(61, 0.18257418583505536), (67, 0.13608276348795434), (98, 0.12309149097933272), (7, 0.10540925533894598), (47, 0.10206207261596577)]\n"
     ]
    }
   ],
   "source": [
    "# creating a list of usernames within the user_sample\n",
    "username_list = []\n",
    "for user in user_sample:\n",
    "   username_list.append(user[0])\n",
    "\n",
    "# generating a list of keys to be used as indexes\n",
    "key_list = list(range(len(username_list)))\n",
    "\n",
    "# this dictionary uses the user ID as they key and the index as the value - this allows us to use user IDs to assess similarity\n",
    "username_dict = {username_list[i]: key_list[i] for i in range(len(key_list))}\n",
    "username_dict_reverse = {key_list[i]: username_list[i] for i in range(len(key_list))}\n",
    "\n",
    "# this code was copied from the RecommenderSystems notebook\n",
    "# given a user ID, this function finds all nonzero similarity scores for the given user compared against all other users\n",
    "def most_similar_users_to(user_id):\n",
    "    pairs = [(other_user_id, similarity)              \n",
    "             for other_user_id, similarity in         \n",
    "                enumerate(user_similarities[username_dict[user_id]]) \n",
    "             if username_dict[user_id] != other_user_id and similarity > 0] \n",
    "\n",
    "    # this returns a list of similarities sorted from most similar to least similar\n",
    "    return sorted(pairs,                              \n",
    "                  key=lambda pair: pair[1],           \n",
    "                  reverse=True)                       \n",
    "\n",
    "user_to_compare = random.sample(user_sample, 1)\n",
    "utc_most_similar_users = most_similar_users_to(str(user_to_compare[0][0]))\n",
    "\n",
    "if len(utc_most_similar_users) > 5:\n",
    "   utc_most_similar_users = utc_most_similar_users[0:5]\n",
    "\n",
    "print(utc_most_similar_users) # you may have to rerun this cell in case the user_to_compare doesn't have any similar users"
   ]
  },
  {
   "cell_type": "markdown",
   "metadata": {},
   "source": [
    "### Recommending songs based on most similar users"
   ]
  },
  {
   "cell_type": "code",
   "execution_count": 35,
   "metadata": {},
   "outputs": [
    {
     "name": "stderr",
     "output_type": "stream",
     "text": [
      "[Stage 177:>                                                        (0 + 3) / 3]\r"
     ]
    },
    {
     "name": "stdout",
     "output_type": "stream",
     "text": [
      "[[223714, 0.254], [245588, 0.237], [335468, 0.203], [215861, 0.186], [282298, 0.119], [14397, 0.15], [282116, 0.15], [310215, 0.15], [368622, 0.272], [181765, 0.136], [280834, 0.136], [349184, 0.111], [14397, 0.251], [357810, 0.247], [88544, 0.24], [207699, 0.135], [218666, 0.135], [250188, 0.135], [362415, 0.135], [379742, 0.135]]\n"
     ]
    },
    {
     "name": "stderr",
     "output_type": "stream",
     "text": [
      "                                                                                \r"
     ]
    }
   ],
   "source": [
    "# first things first: convert from index value back to user ID\n",
    "similar_usernames = []\n",
    "for pair in utc_most_similar_users:\n",
    "    similar_usernames.append([username_dict_reverse[pair[0]], pair[1]])\n",
    "\n",
    "# the for loops below creates a flattened RDD for each of the similar users mentioned above and then adds the user's top rated songs to a list\n",
    "songs_to_rec = []\n",
    "for pair in similar_usernames:\n",
    "    # first filter finds the given user, the flatMap allows us to complete the subsequent sort by rating, and the final filter removes any rating < .1\n",
    "    flattened_rdd = user_pop_rdd.filter(lambda x: x[0]==pair[0]).flatMap(add_user_to_song_list).sortBy(lambda x: x[0][1], ascending=False)\\\n",
    "                                .filter(lambda x: x[0][1]>.1)\n",
    "    \n",
    "    for song in flattened_rdd.collect():\n",
    "        songs_to_rec.append(song[0])\n",
    "\n",
    "print(songs_to_rec)\n"
   ]
  },
  {
   "cell_type": "code",
   "execution_count": 36,
   "metadata": {},
   "outputs": [
    {
     "name": "stdout",
     "output_type": "stream",
     "text": [
      "[368622, 223714, 14397, 357810, 88544]\n"
     ]
    }
   ],
   "source": [
    "# we then sort by rating for songs from all users\n",
    "songs_to_rec.sort(key= lambda x: x[1], reverse=True)\n",
    "\n",
    "final_recommendation = []\n",
    "\n",
    "# our final recommendations are the top 5 rated songs from the most similar users\n",
    "for pair in songs_to_rec[0:5]:\n",
    "    final_recommendation.append(pair[0])\n",
    "\n",
    "print(final_recommendation)"
   ]
  },
  {
   "cell_type": "markdown",
   "metadata": {},
   "source": [
    "#### The End"
   ]
  }
 ],
 "metadata": {
  "kernelspec": {
   "display_name": "Python 3.9.12",
   "language": "python",
   "name": "python3"
  },
  "language_info": {
   "codemirror_mode": {
    "name": "ipython",
    "version": 3
   },
   "file_extension": ".py",
   "mimetype": "text/x-python",
   "name": "python",
   "nbconvert_exporter": "python",
   "pygments_lexer": "ipython3",
   "version": "3.9.12"
  },
  "vscode": {
   "interpreter": {
    "hash": "58f68c893d27d44de5f329b5c78da41b4997af8d492e4e8bd7c62547c498f83b"
   }
  }
 },
 "nbformat": 4,
 "nbformat_minor": 2
}
